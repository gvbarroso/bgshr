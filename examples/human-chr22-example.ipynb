{
 "cells": [
  {
   "cell_type": "code",
   "execution_count": null,
   "id": "20abfaae",
   "metadata": {
    "vscode": {
     "languageId": "plaintext"
    }
   },
   "outputs": [],
   "source": [
    "import time\n",
    "import bgshr\n",
    "import scipy.stats\n",
    "import numpy as np\n",
    "import pandas\n",
    "import matplotlib.pylab as plt, matplotlib\n",
    "\n",
    "# Define paths to data\n"
   ]
  }
 ],
 "metadata": {
  "language_info": {
   "name": "python"
  }
 },
 "nbformat": 4,
 "nbformat_minor": 5
}
